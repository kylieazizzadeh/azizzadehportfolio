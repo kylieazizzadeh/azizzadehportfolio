{
 "cells": [
  {
   "cell_type": "markdown",
   "metadata": {},
   "source": [
    "# Homework 05\n",
    "\n",
    "In this exercise, you will practice inferential statistics with confidence intervals, bootstrapping, and hypothesis testing. Problems may involve a combination of math and code. \n",
    "\n",
    "Recall that you can use LaTeX to nicely format your math inside Markdown cellsby enclosing equations in single dollar signs (e.g., $x^2+4=8$) for inline math or double dollar signs for centered equations like $$P(X > 5) = \\frac{1}{6}.$$ See Worked Examples/HW 03 for further instructions and more examples.\n",
    "\n",
    "Show your work and/or briefly explain your answers. In general, you will not receive full credit for numeric answers with no accompanying work or justification (math, code, explanation). For numeric answers, we will accept answers that are very slightly off due to rounding, $z$-score of $2$ vs. $1.96$, etc. "
   ]
  },
  {
   "cell_type": "code",
   "execution_count": 1,
   "metadata": {},
   "outputs": [],
   "source": [
    "# Run this code cell to import relevant libraries\n",
    "import numpy as np\n",
    "import pandas as pd\n",
    "from scipy import stats"
   ]
  },
  {
   "cell_type": "markdown",
   "metadata": {},
   "source": [
    "### Question 1 (4 points, all autograded)\n",
    "\n",
    "A website is trying to increase registration for first-time visitors, exposing a random subset of these visitors to a new site design. Of $752$ randomly sampled visitors over a month who saw the new design, $64$ registered. Using [`stats.norm.interval`](https://docs.scipy.org/doc/scipy/reference/generated/scipy.stats.norm.html), construct a $95\\%$ confidence interval for the percentage of visitors who would register for the website under the new design. \n",
    "\n",
    "Note that the first parameter is named `confidence` in `scipy` 1.9.0+ and `alpha` in `scipy` 1.8.1- in both functions. **The autograder uses `scipy` 1.9.0+, so specifying `alpha` will cause your cell to error out on Gradescope. You can either use `confidence` (if you have `scipy` 1.9.0+), or just not specify the first parameter name, e.g., `stats.norm.interval(0.95, ...)`.**\n",
    "\n",
    "Save your answer in a tuple `q1_1` of two `float` or `numpy.float64` variables such that `q1_1[0]` is the lower/left bound and `q1_1[1]` is the upper/right bound of your confidence interval. We accept either percentages (e.g., $50.0$) or fractions (e.g., $0.5$). [`stats.norm.interval`](https://docs.scipy.org/doc/scipy/reference/generated/scipy.stats.norm.html) when used correctly already returns a tuple."
   ]
  },
  {
   "cell_type": "code",
   "execution_count": 2,
   "metadata": {
    "tags": []
   },
   "outputs": [
    {
     "name": "stdout",
     "output_type": "stream",
     "text": [
      "Q1: 95% confidence interval:  (0.06516269200219607, 0.10505007395525073)\n"
     ]
    }
   ],
   "source": [
    "# Code for question 1\n",
    "web_scale = np.sqrt((64/752)*(1-64/752))/(np.sqrt(752))\n",
    "web_interval = stats.norm.interval(0.95, loc = (64/752), scale = web_scale)\n",
    "q1 = web_interval\n",
    "\n",
    "\n",
    "# Leave these lines here for grading and ease of debugging\n",
    "print(\"Q1: 95% confidence interval: \", q1)"
   ]
  },
  {
   "cell_type": "markdown",
   "metadata": {},
   "source": [
    "### Question 2 (8 points: 4 autograded, 4 manually graded)\n",
    "\n",
    "A study examined the mean pay for a random sample of men and women entering the workforce as doctors for $21$ different positions. If each gender was equally paid, then we would expect about half of those positions to have men paid more than women and women would be paid more than men in the other half of positions. In the study, men were, on average, paid more in $17$ of the $21$ positions. \n",
    "\n",
    "Complete a hypothesis test using `stats.norm.cdf` to examine whether there is significant evidence (at the $0.05$ level) of gender discrimination in pay in these positions. It can be either one-sided or two-sided. Uncomment the corresponding line to indicate which test you are conducting in the variable `q2_setting`. Save your p-value in `q2` as `float` or `numpy.float64`. \n",
    "\n",
    "In the written part:\n",
    "  1. Explicitly write down the null hypothesis and the alternative hypothesis for this test.\n",
    "  1. Report your p-value and interpret the result.\n",
    "  1. Explain why using `stats.norm.cdf` (not `stats.t.cdf`) is a good choice for this context."
   ]
  },
  {
   "cell_type": "code",
   "execution_count": 3,
   "metadata": {
    "tags": []
   },
   "outputs": [
    {
     "name": "stdout",
     "output_type": "stream",
     "text": [
      "Q2: p-value = 0.004556349803185089 for 2-sided test\n"
     ]
    }
   ],
   "source": [
    "# Code for question 2\n",
    "# q2_setting = 1 # Uncomment for one-sided test\n",
    "q2_setting = 2 # Uncomment for two-sided test\n",
    "\n",
    "job_z_score = np.sqrt(21)*((17/21)-0.5)/(np.sqrt(0.5*(1-0.5)))\n",
    "\n",
    "q2 = (1-stats.norm.cdf(job_z_score))*2\n",
    "\n",
    "# Leave these lines here for grading and ease of debugging\n",
    "print(\"Q2: p-value = {} for {}-sided test\".format(q2, q2_setting))"
   ]
  },
  {
   "cell_type": "markdown",
   "metadata": {},
   "source": [
    "<!-- BEGIN QUESTION -->\n",
    "\n",
    "### Answer 2"
   ]
  },
  {
   "cell_type": "markdown",
   "metadata": {},
   "source": [
    "For a two-sided test, let the null hypothesis $H_0$ be that $50\\%$ of positions have men paid more than women. The alternative hypothesis $H_a$ be that something other than $50\\%$ of positions have men being paid more than women.\n",
    "\n",
    "Conducting a hypothesis test using the normal distribution, I found a two-sided p-value of around $0.005$ for the probability that we observe something as extreme as $50\\%$ given the $H_0$. This is statistically significant at the $0.05$ level because the p-value is less than $0.05$, so we can reject the null hypothesis. Rejecting the null hypothesis shows there is gender discrimination in pay of job positions, as there is not an even amount of which gender is being paid more in job positions. \n",
    "\n",
    "stats.norm.cdf is a good choice because the data is proportional, so we can find the mean and standard deviation in order to calculate a z-score to use the normal distribution."
   ]
  },
  {
   "cell_type": "markdown",
   "metadata": {},
   "source": [
    "<!-- END QUESTION -->\n",
    "\n",
    "## Movie Ratings Data\n",
    "In the remainder of this assignment you will work with the movielens dataset of movie ratings that we have seen before. Below we import and preview the data. It consists of 2 tables: `users` has a row for every individual who has rated any movies, `movie-ratings` has a row for every rating of a particular movie by a particular user. This means users with multiple ratings are in the `movie_ratings` multiple times. The data is a random sample of all of the movie ratings made on the movielens service."
   ]
  },
  {
   "cell_type": "code",
   "execution_count": 4,
   "metadata": {},
   "outputs": [
    {
     "data": {
      "text/html": [
       "<div>\n",
       "<style scoped>\n",
       "    .dataframe tbody tr th:only-of-type {\n",
       "        vertical-align: middle;\n",
       "    }\n",
       "\n",
       "    .dataframe tbody tr th {\n",
       "        vertical-align: top;\n",
       "    }\n",
       "\n",
       "    .dataframe thead th {\n",
       "        text-align: right;\n",
       "    }\n",
       "</style>\n",
       "<table border=\"1\" class=\"dataframe\">\n",
       "  <thead>\n",
       "    <tr style=\"text-align: right;\">\n",
       "      <th></th>\n",
       "      <th>user_id</th>\n",
       "      <th>age</th>\n",
       "      <th>sex</th>\n",
       "      <th>occupation</th>\n",
       "    </tr>\n",
       "  </thead>\n",
       "  <tbody>\n",
       "    <tr>\n",
       "      <th>0</th>\n",
       "      <td>1</td>\n",
       "      <td>24</td>\n",
       "      <td>M</td>\n",
       "      <td>technician</td>\n",
       "    </tr>\n",
       "    <tr>\n",
       "      <th>1</th>\n",
       "      <td>2</td>\n",
       "      <td>53</td>\n",
       "      <td>F</td>\n",
       "      <td>other</td>\n",
       "    </tr>\n",
       "    <tr>\n",
       "      <th>2</th>\n",
       "      <td>3</td>\n",
       "      <td>23</td>\n",
       "      <td>M</td>\n",
       "      <td>writer</td>\n",
       "    </tr>\n",
       "    <tr>\n",
       "      <th>3</th>\n",
       "      <td>4</td>\n",
       "      <td>24</td>\n",
       "      <td>M</td>\n",
       "      <td>technician</td>\n",
       "    </tr>\n",
       "    <tr>\n",
       "      <th>4</th>\n",
       "      <td>5</td>\n",
       "      <td>33</td>\n",
       "      <td>F</td>\n",
       "      <td>other</td>\n",
       "    </tr>\n",
       "  </tbody>\n",
       "</table>\n",
       "</div>"
      ],
      "text/plain": [
       "   user_id  age sex  occupation\n",
       "0        1   24   M  technician\n",
       "1        2   53   F       other\n",
       "2        3   23   M      writer\n",
       "3        4   24   M  technician\n",
       "4        5   33   F       other"
      ]
     },
     "execution_count": 4,
     "metadata": {},
     "output_type": "execute_result"
    }
   ],
   "source": [
    "users = pd.read_csv(\"users.csv\")\n",
    "users.head()"
   ]
  },
  {
   "cell_type": "code",
   "execution_count": 5,
   "metadata": {},
   "outputs": [
    {
     "data": {
      "text/html": [
       "<div>\n",
       "<style scoped>\n",
       "    .dataframe tbody tr th:only-of-type {\n",
       "        vertical-align: middle;\n",
       "    }\n",
       "\n",
       "    .dataframe tbody tr th {\n",
       "        vertical-align: top;\n",
       "    }\n",
       "\n",
       "    .dataframe thead th {\n",
       "        text-align: right;\n",
       "    }\n",
       "</style>\n",
       "<table border=\"1\" class=\"dataframe\">\n",
       "  <thead>\n",
       "    <tr style=\"text-align: right;\">\n",
       "      <th></th>\n",
       "      <th>user_id</th>\n",
       "      <th>age</th>\n",
       "      <th>sex</th>\n",
       "      <th>occupation</th>\n",
       "      <th>movie_id</th>\n",
       "      <th>rating</th>\n",
       "      <th>movie_title</th>\n",
       "    </tr>\n",
       "  </thead>\n",
       "  <tbody>\n",
       "    <tr>\n",
       "      <th>0</th>\n",
       "      <td>1</td>\n",
       "      <td>24</td>\n",
       "      <td>M</td>\n",
       "      <td>technician</td>\n",
       "      <td>61</td>\n",
       "      <td>4</td>\n",
       "      <td>Three Colors: White (1994)</td>\n",
       "    </tr>\n",
       "    <tr>\n",
       "      <th>1</th>\n",
       "      <td>13</td>\n",
       "      <td>47</td>\n",
       "      <td>M</td>\n",
       "      <td>educator</td>\n",
       "      <td>61</td>\n",
       "      <td>4</td>\n",
       "      <td>Three Colors: White (1994)</td>\n",
       "    </tr>\n",
       "    <tr>\n",
       "      <th>2</th>\n",
       "      <td>18</td>\n",
       "      <td>35</td>\n",
       "      <td>F</td>\n",
       "      <td>other</td>\n",
       "      <td>61</td>\n",
       "      <td>4</td>\n",
       "      <td>Three Colors: White (1994)</td>\n",
       "    </tr>\n",
       "    <tr>\n",
       "      <th>3</th>\n",
       "      <td>58</td>\n",
       "      <td>27</td>\n",
       "      <td>M</td>\n",
       "      <td>programmer</td>\n",
       "      <td>61</td>\n",
       "      <td>5</td>\n",
       "      <td>Three Colors: White (1994)</td>\n",
       "    </tr>\n",
       "    <tr>\n",
       "      <th>4</th>\n",
       "      <td>59</td>\n",
       "      <td>49</td>\n",
       "      <td>M</td>\n",
       "      <td>educator</td>\n",
       "      <td>61</td>\n",
       "      <td>4</td>\n",
       "      <td>Three Colors: White (1994)</td>\n",
       "    </tr>\n",
       "  </tbody>\n",
       "</table>\n",
       "</div>"
      ],
      "text/plain": [
       "   user_id  age sex  occupation  movie_id  rating                 movie_title\n",
       "0        1   24   M  technician        61       4  Three Colors: White (1994)\n",
       "1       13   47   M    educator        61       4  Three Colors: White (1994)\n",
       "2       18   35   F       other        61       4  Three Colors: White (1994)\n",
       "3       58   27   M  programmer        61       5  Three Colors: White (1994)\n",
       "4       59   49   M    educator        61       4  Three Colors: White (1994)"
      ]
     },
     "execution_count": 5,
     "metadata": {},
     "output_type": "execute_result"
    }
   ],
   "source": [
    "movie_ratings = pd.read_csv(\"movies-all.csv\")\n",
    "movie_ratings.head()"
   ]
  },
  {
   "cell_type": "markdown",
   "metadata": {},
   "source": [
    "### Question 3 (12 points: 8 autograded, 4 manually graded)\n",
    "1. Compute a $95\\%$ confidence interval for the mean `age` of users using `stats.norm.interval`. Save your answer in a tuple `q3_1` similar to that in Q1.\n",
    "2. Compute a $95\\%$ confidence interval for the mean `age` of users **who have rated the movie `Casablanca (1942)`** using the normal distribution. Save your answer in a tuple `q3_2`.\n",
    "\n",
    "In the written part, answer the following question.\n",
    "\n",
    "3. `Casablanca (1942)` is an old movie, one might suspect that it has been rated by older individuals on average than the entire dataset. Just looking at the confidence intervals you computed in steps 1 and 2, can you conclude that there is significant evidence for this belief? Why or why not? "
   ]
  },
  {
   "cell_type": "code",
   "execution_count": 6,
   "metadata": {
    "tags": []
   },
   "outputs": [
    {
     "name": "stdout",
     "output_type": "stream",
     "text": [
      "3.1: 95% confidence interval:  (33.27417039488504, 34.829753253047095)\n",
      "3.2: 95% confidence interval:  (34.46345637868268, 37.330782304444895)\n"
     ]
    }
   ],
   "source": [
    "# Code for question 3\n",
    "users_mu = np.mean(users['age'])\n",
    "users_sigma = np.std(users['age'])\n",
    "users_n = len(users['age'])\n",
    "q3_1 = stats.norm.interval(0.95, users_mu, users_sigma/np.sqrt(users_n))\n",
    "\n",
    "casablanca = movie_ratings[movie_ratings['movie_title'] == 'Casablanca (1942)']\n",
    "casablanca_mu = np.mean(casablanca['age'])\n",
    "casablanca_sigma = np.std(casablanca['age'])\n",
    "casablanca_n = len(casablanca['age'])\n",
    "q3_2 = stats.norm.interval(0.95, casablanca_mu, casablanca_sigma/np.sqrt(casablanca_n))\n",
    "\n",
    "# Leave these lines here for grading and ease of debugging\n",
    "print(\"3.1: 95% confidence interval: \", q3_1)\n",
    "print(\"3.2: 95% confidence interval: \", q3_2)"
   ]
  },
  {
   "cell_type": "markdown",
   "metadata": {},
   "source": [
    "<!-- BEGIN QUESTION -->\n",
    "\n",
    "## Answer 3"
   ]
  },
  {
   "cell_type": "markdown",
   "metadata": {},
   "source": [
    "Since there is overlap between the two confidence intervals, we can't conclude there is significant evidence for the belief that Casablanca is rated by older individuals on average than the entire dataset. In order to determine if there was significance for this belief, we would have to perform a t-test."
   ]
  },
  {
   "cell_type": "markdown",
   "metadata": {},
   "source": [
    "<!-- END QUESTION -->\n",
    "\n",
    "### Question 4 (6 points, all autograded)\n",
    "Only $18$ users have rated the movie `Lost in Space (1998)`.\n",
    "1. Use bootstrapping with $10000$ bootstrap resamples to compute a $95\\%$ confidence interval for the mean `age` of users who have rated `Lost in Space (1998)`. Save your answer in a tuple `q4_1`.\n",
    "2. One of the advantages of bootstrapping is that we can easily compute confidence intervals for arbitrary measurements of distributions. Use bootstrapping with $10000$ bootstrap resamples to compute a $95\\%$ confidence interval for the **median** `rating` of `Lost in Space (1998)`. Note that `numpy` provides a vectorized function for [calculating the median](https://numpy.org/doc/stable/reference/generated/numpy.median.html) as well as the mean. Save your answer in a tuple `q4_2`."
   ]
  },
  {
   "cell_type": "code",
   "execution_count": 7,
   "metadata": {
    "tags": []
   },
   "outputs": [
    {
     "name": "stdout",
     "output_type": "stream",
     "text": [
      "4.1: 95% confidence interval:  (25.944444444444443, 36.611111111111114)\n",
      "4.2: 95% confidence interval:  (2.5, 4.0)\n"
     ]
    }
   ],
   "source": [
    "# Code for question 4\n",
    "lost_in_space = movie_ratings[movie_ratings['movie_title'] == 'Lost in Space (1998)']\n",
    "ages_lost = lost_in_space['age']\n",
    "num_bootstraps = 10000\n",
    "\n",
    "movie_bootstrap = np.random.choice(ages_lost, size=(num_bootstraps, len(ages_lost)), replace = True)\n",
    "movie_bootstrap_means = np.mean(movie_bootstrap, axis=1)\n",
    "movie_boot_l = np.percentile(movie_bootstrap_means, 2.5)\n",
    "movie_boot_r = np.percentile(movie_bootstrap_means, 97.5)\n",
    "\n",
    "q4_1 = (movie_boot_l, movie_boot_r)\n",
    "\n",
    "rating_lost = lost_in_space['rating']\n",
    "rating_bootstrap = np.random.choice(rating_lost, size=(num_bootstraps, len(rating_lost)), replace = True)\n",
    "rating_bootstrap_median = np.median(rating_bootstrap, axis=1)\n",
    "rating_boot_l = np.percentile(rating_bootstrap_median, 2.5)\n",
    "rating_boot_r = np.percentile(rating_bootstrap_median, 97.5)\n",
    "\n",
    "q4_2 = (rating_boot_l, rating_boot_r)\n",
    "\n",
    "# Leave these lines here for grading and ease of debugging\n",
    "print(\"4.1: 95% confidence interval: \", q4_1)\n",
    "print(\"4.2: 95% confidence interval: \", q4_2)"
   ]
  },
  {
   "cell_type": "markdown",
   "metadata": {},
   "source": [
    "### Question 5 (14 points: 6 autograded, 8 manually graded)\n",
    "The `Star Wars (1977)` film is quite popular, with a median rating of $5/5$. However, of those that left a rating, male users gave it a slightly higher mean rating of about $4.4$ whereas female users gave the same movie a mean rating of about $4.2$.\n",
    "\n",
    "1. Consider the null hypothesis that the mean rating of `Star Wars (1977)` is the same for `sex='F'` and `sex='M'` users. The alternative hypothesis is that the mean ratings are not equal. Conduct a two-sided t test using [`stats.ttest_ind`](https://docs.scipy.org/doc/scipy/reference/generated/scipy.stats.ttest_ind.html) to evaluate this using the sample ratings data. Report your p-value in `q5_1` as a `float` or `numpy.float64`. Interpret your p-value at a significance level of $0.05$ in the **Answer 5** cell. **Moreover, explain the underlying assumptions in your t test in the cell.** You are welcome to consult the documentation of [`stats.ttest_ind`](https://docs.scipy.org/doc/scipy/reference/generated/scipy.stats.ttest_ind.html) to help answering this question.\n",
    "\n",
    "\n",
    "2. Consider the null hypothesis that $51\\%$ of men would rate `Star Wars (1977)` a $5$. The alternative hypothesis is then that the fraction of men who would rate `Star Wars (1977)` a $5$ is not $51\\%$. Conduct a two-sided hypothesis test using [`stats.t.cdf`](https://docs.scipy.org/doc/scipy/reference/generated/scipy.stats.t.html) to evaluate this in light of the sample ratings data of male users who rated `Star Wars (1977)`. Report your p-value in `q5_2` as a `float` or `numpy.float64`. Interpret your p-value at a significance level of $0.05$ in the **Answer 5** cell.\n",
    "\n",
    "\n",
    "3. Consider the null hypothesis that women and men were equally likely to rate `Star Wars (1977)` a $5$. The alternative hypothesis is that these proportions are not equal. Conduct a two-sided t test using [`stats.ttest_ind_from_stats`](https://docs.scipy.org/doc/scipy/reference/generated/scipy.stats.ttest_ind_from_stats.html) to evaluate this in light of the sample data of female and male users who rated `Star Wars (1977)`. Report your p-value in `q5_3` as a `float` or `numpy.float64`. Interpret your p-value at a significance level of $0.05$ in the **Answer 5** cell. \n",
    "\n",
    "\n",
    "4. In the sample ratings data, $51\\%$ of women rated `Star Wars (1977)` a $5$. (You are welcome to write code to validate this claim, but you can just accept it as fact.) Therefore, if $51\\%$ of men and $51\\%$ of women would rate `Star Wars (1977)` a $5$, both null hypotheses in 5.2 and 5.3 would be true. If this is the case, why do you observe a different p-value in the two parts, despite the hypotheses under consideration being ostensibly similar? Briefly explain why you observe this difference in the **Answer 5** cell. "
   ]
  },
  {
   "cell_type": "code",
   "execution_count": 8,
   "metadata": {
    "tags": []
   },
   "outputs": [
    {
     "name": "stdout",
     "output_type": "stream",
     "text": [
      "Q5.1: p-value:  0.06606506021398857\n",
      "Q5.2: p-value:  0.008010296971218134\n",
      "Q5.3: p-value:  0.1717837459146108\n"
     ]
    }
   ],
   "source": [
    "# Code for question 5\n",
    "star_wars = movie_ratings[movie_ratings['movie_title'] == 'Star Wars (1977)']\n",
    "women_rank = star_wars[star_wars['sex'] == 'F']['rating']\n",
    "# print(len(women_rank))\n",
    "men_rank = star_wars[star_wars['sex'] == 'M']['rating']\n",
    "# print(len(men_rank))\n",
    "q5_1 = stats.ttest_ind(women_rank, men_rank)[1]\n",
    "\n",
    "sw_empirical = len(men_rank[men_rank == 5])/len(men_rank)\n",
    "sw_t_score = np.sqrt(len(men_rank))*((sw_empirical)-0.51)/(np.sqrt(0.51*(1-0.51)))\n",
    "q5_2 = (1-stats.t.cdf(sw_t_score, len(men_rank)-1))*2\n",
    "\n",
    "men_empirical = len(men_rank[men_rank == 5])/len(men_rank)\n",
    "women_empirical = len(women_rank[women_rank == 5])/len(women_rank)\n",
    "q5_3 = stats.ttest_ind_from_stats(mean1 = men_empirical, std1 = np.sqrt(men_empirical*(1-men_empirical)), nobs1 = len(men_rank), \n",
    "                                  mean2 = women_empirical, std2 = np.sqrt(women_empirical*(1-women_empirical)), nobs2 = len(women_rank),\n",
    "                                      alternative = 'two-sided')[1]\n",
    "\n",
    "# Leave these lines here for grading and ease of debugging\n",
    "print(\"Q5.1: p-value: \", q5_1)\n",
    "print(\"Q5.2: p-value: \", q5_2)\n",
    "print(\"Q5.3: p-value: \", q5_3)"
   ]
  },
  {
   "cell_type": "markdown",
   "metadata": {},
   "source": [
    "### Answer 5"
   ]
  },
  {
   "cell_type": "markdown",
   "metadata": {},
   "source": [
    "5.1) I found a two-sided p-value of around $0.07$. This is not statistically significant at the $0.05$ level because the p-value is greater than $0.05$, so we fail to reject the null hypothesis. Since we fail to reject the null hypothesis, we can not conclude that mean ratings of females and males are not equal. The underlying assumptions made using the t-test is that the samples are independent, and the variances are identical in both data sets. \n",
    "\n",
    "5.2) I found a two-sided p-value of around $0.008$. This is statistically significant at the $0.05$ level because the p-value is less than $0.05$, so we can reject the null hypothesis. Since we reject the null hypothesis, we can conclude that the fraction of men who would rate Star Wars a $5$ is not $51\\%$.\n",
    "\n",
    "5.3) I found a two-sided p-value of around $0.17$. This is not statistically significant at the $0.05$ level because the p-value is greater than $0.05$, so we fail to reject the null hypothesis. Since we fail to reject the null hypothesis, we can not conclude that women and men were equally likely to rate Star Wars a $5$.\n",
    "\n",
    "5.4) 151 women rated Star Wars and 432 men rated Star Wars. There is a higher chance of a p-value being statistically significant with a larger sample size because a smaller p-value represents there is stronger evidence against the null hypothesis. In this case, about three times more men than women ranked Star Wars, so there is a larger sample size, which means that the null hypothesis is more likely to be rejected due to a smaller p-value. Since there are less women who rated Star Wars, the sample size is smaller meaning there is not as strong evidence against the null hypothesis, resulting in a larger p-value in which the null hypothesis fails to be rejected."
   ]
  },
  {
   "cell_type": "markdown",
   "metadata": {},
   "source": [
    "<!-- END QUESTION -->\n",
    "\n",
    "## Submitting\n",
    "\n",
    "You should make sure any code that you write to answer the questions is included in this notebook. You are **required** to go to the Kernel option and choose **\"Restart & Run All\"**  before submission. Double check that your entire notebook runs correctly and generates the expected output. Finally, make sure to save your work (timestamp at the top tells you the last checkpoint and whether there are unsaved changes). When you finish, submit your assignment at [Gradescope](http://gradescope.com/ \"‌\"). **Submissions not prepared correctly as above will lose points.**"
   ]
  }
 ],
 "metadata": {
  "kernelspec": {
   "display_name": "Python 3 (ipykernel)",
   "language": "python",
   "name": "python3"
  },
  "language_info": {
   "codemirror_mode": {
    "name": "ipython",
    "version": 3
   },
   "file_extension": ".py",
   "mimetype": "text/x-python",
   "name": "python",
   "nbconvert_exporter": "python",
   "pygments_lexer": "ipython3",
   "version": "3.9.13"
  },
  "otter": {
   "OK_FORMAT": true,
   "tests": {
    "q1": {
     "name": "q1",
     "points": [
      1,
      1,
      2
     ],
     "suites": [
      {
       "cases": [
        {
         "code": ">>> isinstance(q1, tuple) and\\\n... (isinstance(q1[0], np.float64) or isinstance(q1[0], float)) and\\\n... (isinstance(q1[1], np.float64) or isinstance(q1[1], float))\nTrue",
         "hidden": false,
         "locked": false
        },
        {
         "code": ">>> (0 < q1[0] < 100) and (0 < q1[1] < 100)\nTrue",
         "hidden": false,
         "locked": false
        },
        {
         "code": ">>> from auto_checks import check_q1\n>>> check_q1(q1)\n'PASS'",
         "hidden": false,
         "locked": false
        }
       ],
       "scored": true,
       "setup": "",
       "teardown": "",
       "type": "doctest"
      }
     ]
    },
    "q2_code": {
     "name": "q2_code",
     "points": [
      1,
      1,
      2
     ],
     "suites": [
      {
       "cases": [
        {
         "code": ">>> q2_setting in [1, 2]\nTrue",
         "hidden": false,
         "locked": false
        },
        {
         "code": ">>> isinstance(q2, np.float64) or isinstance(q2, float)\nTrue",
         "hidden": false,
         "locked": false
        },
        {
         "code": ">>> from auto_checks import check_q2\n>>> check_q2(q2, q2_setting)\n'PASS'",
         "hidden": false,
         "locked": false
        }
       ],
       "scored": true,
       "setup": "",
       "teardown": "",
       "type": "doctest"
      }
     ]
    },
    "q3": {
     "name": "q3",
     "points": [
      1,
      1,
      2,
      1,
      1,
      2
     ],
     "suites": [
      {
       "cases": [
        {
         "code": ">>> isinstance(q3_1, tuple) and\\\n... (isinstance(q3_1[0], np.float64) or isinstance(q3_1[0], float)) and\\\n... (isinstance(q3_1[1], np.float64) or isinstance(q3_1[1], float))\nTrue",
         "hidden": false,
         "locked": false
        },
        {
         "code": ">>> (0 < q3_1[0] < 100) and (0 < q3_1[1] < 100)\nTrue",
         "hidden": false,
         "locked": false
        },
        {
         "code": ">>> from auto_checks import check_q3_1\n>>> check_q3_1(q3_1)\n'PASS'",
         "hidden": false,
         "locked": false
        },
        {
         "code": ">>> isinstance(q3_2, tuple) and\\\n... (isinstance(q3_2[0], np.float64) or isinstance(q3_2[0], float)) and\\\n... (isinstance(q3_2[1], np.float64) or isinstance(q3_2[1], float))\nTrue",
         "hidden": false,
         "locked": false
        },
        {
         "code": ">>> (0 < q3_2[0] < 100) and (0 < q3_2[1] < 100)\nTrue",
         "hidden": false,
         "locked": false
        },
        {
         "code": ">>> from auto_checks import check_q3_2\n>>> check_q3_2(q3_2)\n'PASS'",
         "hidden": false,
         "locked": false
        }
       ],
       "scored": true,
       "setup": "",
       "teardown": "",
       "type": "doctest"
      }
     ]
    },
    "q4": {
     "name": "q4",
     "points": [
      1,
      1,
      2,
      1,
      1,
      2
     ],
     "suites": [
      {
       "cases": [
        {
         "code": ">>> isinstance(q4_1, tuple) and\\\n... (isinstance(q4_1[0], np.float64) or isinstance(q4_1[0], float)) and\\\n... (isinstance(q4_1[1], np.float64) or isinstance(q4_1[1], float))\nTrue",
         "hidden": false,
         "locked": false
        },
        {
         "code": ">>> (0 < q4_1[0] < 100) and (0 < q4_1[1] < 100)\nTrue",
         "hidden": false,
         "locked": false
        },
        {
         "code": ">>> from auto_checks import check_q4_1\n>>> check_q4_1(q4_1)\n'PASS'",
         "hidden": false,
         "locked": false
        },
        {
         "code": ">>> isinstance(q4_2, tuple) and\\\n... (isinstance(q4_2[0], np.float64) or isinstance(q4_2[0], float)) and\\\n... (isinstance(q4_2[1], np.float64) or isinstance(q4_2[1], float))\nTrue",
         "hidden": false,
         "locked": false
        },
        {
         "code": ">>> (0 <= q4_2[0] <= 5) and (0 <= q4_2[1] <= 5)\nTrue",
         "hidden": false,
         "locked": false
        },
        {
         "code": ">>> from auto_checks import check_q4_2\n>>> check_q4_2(q4_2)\n'PASS'",
         "hidden": false,
         "locked": false
        }
       ],
       "scored": true,
       "setup": "",
       "teardown": "",
       "type": "doctest"
      }
     ]
    },
    "q5": {
     "name": "q5",
     "points": [
      1,
      1,
      1,
      1,
      1,
      1
     ],
     "suites": [
      {
       "cases": [
        {
         "code": ">>> import numpy\n>>> isinstance(q5_1, numpy.float64) or isinstance(q5_1, float)\nTrue",
         "hidden": false,
         "locked": false
        },
        {
         "code": ">>> from auto_checks import check_q5_1\n>>> check_q5_1(q5_1)\n'PASS'",
         "hidden": false,
         "locked": false
        },
        {
         "code": ">>> import numpy\n>>> isinstance(q5_2, numpy.float64) or isinstance(q5_2, float)\nTrue",
         "hidden": false,
         "locked": false
        },
        {
         "code": ">>> from auto_checks import check_q5_2\n>>> check_q5_2(q5_2)\n'PASS'",
         "hidden": false,
         "locked": false
        },
        {
         "code": ">>> import numpy\n>>> isinstance(q5_3, numpy.float64) or isinstance(q5_3, float)\nTrue",
         "hidden": false,
         "locked": false
        },
        {
         "code": ">>> from auto_checks import check_q5_3\n>>> check_q5_3(q5_3)\n'PASS'",
         "hidden": false,
         "locked": false
        }
       ],
       "scored": true,
       "setup": "",
       "teardown": "",
       "type": "doctest"
      }
     ]
    }
   }
  }
 },
 "nbformat": 4,
 "nbformat_minor": 4
}
